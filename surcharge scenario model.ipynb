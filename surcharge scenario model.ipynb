{
 "cells": [
  {
   "cell_type": "code",
   "execution_count": null,
   "metadata": {},
   "outputs": [],
   "source": [
    "import pandas as pd"
   ]
  },
  {
   "cell_type": "code",
   "execution_count": null,
   "metadata": {},
   "outputs": [],
   "source": [
    "origin_df = pd.read_csv('reservation_info.csv')\n",
    "opr_df = pd.read_csv('opr_df.csv')"
   ]
  },
  {
   "cell_type": "code",
   "execution_count": null,
   "metadata": {},
   "outputs": [],
   "source": [
    "# make the column of date&zone_id data\n",
    "origin_df['start_date'] = origin_df['start_at'].str[:10]\n",
    "origin_df['zone_id'] = origin_df['zone_id'].astype(str)\n",
    "origin_df['date_zone'] = origin_df['start_date'] + '-' + origin_df['zone_id']"
   ]
  },
  {
   "cell_type": "code",
   "execution_count": null,
   "metadata": {},
   "outputs": [],
   "source": [
    "opr_df = opr_df[opr_df['day'].isin(['금','토','일'])]\n",
    "opr_df['opr_rate'] = opr_df['optime']/opr_df['dptime']\n",
    "opr_df=opr_df[opr_df['opr_rate']>= ---]#criteria of high operation rate\n",
    "opr_df['zone_id'] = opr_df['zone_id'].astype(str)\n",
    "opr_df['date_zone'] = opr_df['date'].str[:] +'-'+ opr_df['zone_id'].str[:]"
   ]
  },
  {
   "cell_type": "code",
   "execution_count": null,
   "metadata": {},
   "outputs": [],
   "source": [
    "high_opr_date_list = list(opr_df['date_zone'])\n",
    "origin_df = origin_df[origin_df['date_zone'].isin(high_opr_date_list)]\n",
    "origin_df = origin_df[['reservation_id','utime','rev_total','start_hour','created_hour','end_hour','lead_time']]"
   ]
  },
  {
   "cell_type": "code",
   "execution_count": null,
   "metadata": {},
   "outputs": [],
   "source": [
    "# 수치부분은 ----처리함.\n",
    "normal_price = origin_df[(origin_df['utime']>3)&(origin_df['utime']<=6)]['rev_total'].mean()\n",
    "df = origin_df[(origin_df['utime']>0)&(origin_df['utime']<=3)&(origin_df['lead_time']>=3600)]\n",
    "df['lead_time_coef'] = df['lead_time'].apply(lambda x: ---- if x<=---- else ---)"
   ]
  },
  {
   "cell_type": "code",
   "execution_count": null,
   "metadata": {},
   "outputs": [],
   "source": [
    "afternoon = list(range(--,--)) # afternoon criteria setting\n",
    "n_afternoon = list(range(--,--))+list(range(--,--)) # non-afternoon criteria setting\n",
    "time_set = [afternoon,n_afternoon]"
   ]
  },
  {
   "cell_type": "code",
   "execution_count": null,
   "metadata": {},
   "outputs": [],
   "source": [
    "# add the column of subcharge coefficient by start time\n",
    "coef_list =[---, ---] #additional subcharge rate for specific timeset\n",
    "s_df = pd.DataFrame(columns=['reservation_id','start_coef'])\n",
    "for i in range(len(time_set)):\n",
    "    subset = df[df['start_hour'].isin(time_set[i])]\n",
    "    subset['start_coef'] = [coef_list[i]]*len(subset)\n",
    "    subset = subset[['reservation_id','start_coef']]\n",
    "    s_df = s_df.append(subset)\n",
    "df = df.merge(s_df,on='reservation_id',how='outer')"
   ]
  },
  {
   "cell_type": "code",
   "execution_count": null,
   "metadata": {},
   "outputs": [],
   "source": [
    "# presume the ped ,surcharge rate\n",
    "df['ped'] = df['lead_time'].apply(lambda x: ---/--- if x<=--- else ---)\n",
    "df['price'] = df['rev_total']/df['utime']\n",
    "df['surcharge'] = df['lead_time_coef']*df['start_coef']"
   ]
  },
  {
   "cell_type": "code",
   "execution_count": null,
   "metadata": {},
   "outputs": [],
   "source": [
    "# calculate the expected amount of revenue after the surcharge\n",
    "df['after_surcharge'] = df['rev_total']*df['surcharge']*df['surcharge'].apply(lambda x: 2-x)*df['ped']"
   ]
  },
  {
   "cell_type": "code",
   "execution_count": null,
   "metadata": {},
   "outputs": [],
   "source": [
    "# presume the normal price that will substitute the amount of decreased demand\n",
    "normal_price = origin_df[(origin_df['utime']>=3)&(origin_df['utime']<=6)]['rev_total'].mean()"
   ]
  },
  {
   "cell_type": "code",
   "execution_count": null,
   "metadata": {},
   "outputs": [],
   "source": [
    "# calculate the total expected decrease of demand\n",
    "((df['surcharge']-1)*df['ped']).mean()"
   ]
  },
  {
   "cell_type": "code",
   "execution_count": null,
   "metadata": {},
   "outputs": [],
   "source": [
    "# expected number of decreasing reservations \n",
    "len(df)*(df['ped']*(df['surcharge']-1)).mean()"
   ]
  },
  {
   "cell_type": "code",
   "execution_count": null,
   "metadata": {},
   "outputs": [],
   "source": [
    "# calculate the minimum change rate to pass the BEP\n",
    "(df['rev_total'].sum()-df['after_surcharge'].sum())/(normal_price*(len(df)*(df['ped']*(df['surcharge']-1)).mean()))"
   ]
  }
 ],
 "metadata": {
  "kernelspec": {
   "display_name": "Python 3",
   "language": "python",
   "name": "python3"
  },
  "language_info": {
   "codemirror_mode": {
    "name": "ipython",
    "version": 3
   },
   "file_extension": ".py",
   "mimetype": "text/x-python",
   "name": "python",
   "nbconvert_exporter": "python",
   "pygments_lexer": "ipython3",
   "version": "3.6.5"
  },
  "varInspector": {
   "cols": {
    "lenName": 16,
    "lenType": 16,
    "lenVar": 40
   },
   "kernels_config": {
    "python": {
     "delete_cmd_postfix": "",
     "delete_cmd_prefix": "del ",
     "library": "var_list.py",
     "varRefreshCmd": "print(var_dic_list())"
    },
    "r": {
     "delete_cmd_postfix": ") ",
     "delete_cmd_prefix": "rm(",
     "library": "var_list.r",
     "varRefreshCmd": "cat(var_dic_list()) "
    }
   },
   "types_to_exclude": [
    "module",
    "function",
    "builtin_function_or_method",
    "instance",
    "_Feature"
   ],
   "window_display": false
  }
 },
 "nbformat": 4,
 "nbformat_minor": 2
}
