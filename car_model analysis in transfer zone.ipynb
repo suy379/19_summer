{
 "cells": [
  {
   "cell_type": "code",
   "execution_count": null,
   "metadata": {},
   "outputs": [],
   "source": [
    "from google.colab import drive\n",
    "drive.mount('/content/drive')"
   ]
  },
  {
   "cell_type": "code",
   "execution_count": null,
   "metadata": {},
   "outputs": [],
   "source": [
    "#load packages needed\n",
    "import pandas as pd\n",
    "import matplotlib.pyplot as plt\n",
    "import matplotlib.font_manager as font_manager\n",
    "font_name = font_manager.FontProperties(fname=\"/content/drive/Shared drives/gh_new_zone/--\").get_name()\n",
    "plt.rc('font', family=font_name)"
   ]
  },
  {
   "cell_type": "code",
   "execution_count": null,
   "metadata": {},
   "outputs": [],
   "source": [
    "#load 'weekly profit' data\n",
    "profit1=pd.read_csv('/content/drive/Shared drives/gh_new_zone/---.csv')"
   ]
  },
  {
   "cell_type": "code",
   "execution_count": null,
   "metadata": {},
   "outputs": [],
   "source": [
    "#Data Preprocessing('profit')\n",
    " #pick out data which dist_type is ransfer zone\n",
    "transfer=profit[(profit.dist_type=='TRANSFER_STATION')|(profit.dist_type=='TRANSFER_SUBWAY')|(profit.dist_type=='TRANSFER_TERMINAL')|(profit.dist_type=='TRANSFER_BUS')]\n",
    "transfer.head()\n",
    "\n",
    " #group by region & zone\n",
    "profit_g=transfer.groupby(['region1','region2','region3','zone_id','dist_type']).mean()\n",
    "profit_g=profit_g.reset_index()\n",
    "profit_g.head()"
   ]
  },
  {
   "cell_type": "code",
   "execution_count": null,
   "metadata": {},
   "outputs": [],
   "source": [
    "#load 'reservation info' data\n",
    "reserve=pd.read_csv('/content/drive/Shared drives/gh_new_zone/--.csv')\n",
    "reserve.head()"
   ]
  },
  {
   "cell_type": "code",
   "execution_count": null,
   "metadata": {},
   "outputs": [],
   "source": [
    "#Merge the datasets('profit'&'reserve')\n",
    "total2=pd.merge(profit_g,reserve)\n",
    "total2.head()\n",
    "total2.to_csv('total2.csv',index=False) #save csv file"
   ]
  },
  {
   "cell_type": "code",
   "execution_count": null,
   "metadata": {},
   "outputs": [],
   "source": [
    "#pick out transfer zone & non-transfer zone in 'total2'\n",
    "total_transfer=total2[(total2.dist_type=='TRANSFER_STATION')|(total2.dist_type=='TRANSFER_SUBWAY')|(total2.dist_type=='TRANSFER_TERMINAL')|(total2.dist_type=='TRANSFER_BUS')]\n",
    "not_transfer=total2[(total2.dist_type!='TRANSFER_STATION')&(total2.dist_type!='TRANSFER_SUBWAY')&(total2.dist_type!='TRANSFER_TERMINAL')&(total2.dist_type!='TRANSFER_BUS')]"
   ]
  },
  {
   "cell_type": "code",
   "execution_count": null,
   "metadata": {},
   "outputs": [],
   "source": [
    "#average of utime, distance, rev_total in transfer zone\n",
    "print(total_transfer.utime.sum()/len(total_transfer))\n",
    "print(total_transfer.distance.sum()/len(total_transfer))\n",
    "print(total_transfer.rev_total.sum()/len(total_transfer))"
   ]
  },
  {
   "cell_type": "code",
   "execution_count": null,
   "metadata": {},
   "outputs": [],
   "source": [
    "#average of utime, distance, rev_total in non-transfer zone\n",
    "print(not_transfer.utime.sum()/len(not_transfer))\n",
    "print(not_transfer.distance.sum()/len(not_transfer))\n",
    "print(not_transfer.rev_total.sum()/len(not_transfer))"
   ]
  },
  {
   "cell_type": "markdown",
   "metadata": {},
   "source": [
    "# transfer zone analysis - hypothesis testing"
   ]
  },
  {
   "cell_type": "code",
   "execution_count": null,
   "metadata": {},
   "outputs": [],
   "source": [
    "#Hypothesis Testing\n",
    "#t-test of age, utime, distance and rev_total between transfer zone & non-transfer zone\n",
    "\n",
    "#age\n",
    "#Levene의 등분산 검정 \n",
    "from scipy import stats\n",
    "lresult = stats.levene(total_transfer.age, not_transfer.age)\n",
    "print('LeveneResult(F) : %.3f \\np-value : %.3f' % (lresult)) #이분산\n",
    "#등분산이 아닌 독립표본 t-검정 실행 \n",
    "result = stats.ttest_ind(total_transfer.age, not_transfer.age, equal_var=False) \n",
    "print('t statistic : %.3f \\np-value : %.3f' % (result))\n",
    "\n",
    "#utime\n",
    "#Levene의 등분산 검정 \n",
    "from scipy import stats\n",
    "lresult = stats.levene(total_transfer.utime, not_transfer.utime)\n",
    "print('LeveneResult(F) : %.3f \\np-value : %.3f' % (lresult)) #이분산\n",
    "#등분산이 아닌 독립표본 t-검정 실행 (utime)\n",
    "result = stats.ttest_ind(total_transfer.utime, not_transfer.utime, equal_var=False) \n",
    "print('t statistic : %.3f \\np-value : %.3f' % (result))\n",
    "\n",
    "#distance\n",
    "#Levene의 등분산 검정 \n",
    "from scipy import stats\n",
    "lresult = stats.levene(total_transfer.distance, not_transfer.distance)\n",
    "print('LeveneResult(F) : %.3f \\np-value : %.3f' % (lresult)) #이분산\n",
    "#등분산이 아닌 독립표본 t-검정 실행 (distance)\n",
    "result = stats.ttest_ind(total_transfer.distance, not_transfer.distance, equal_var=False) \n",
    "print('t statistic : %.3f \\np-value : %.3f' % (result))\n",
    "\n",
    "#rev_total\n",
    "#Levene의 등분산 검정 \n",
    "from scipy import stats\n",
    "lresult = stats.levene(total_transfer.rev_total, not_transfer.rev_total)\n",
    "print('LeveneResult(F) : %.3f \\np-value : %.3f' % (lresult)) #이분산\n",
    "#등분산이 아닌 독립표본 t-검정 실행 (rev_total)\n",
    "result = stats.ttest_ind(total_transfer.rev_total, not_transfer.rev_total, equal_var=False) \n",
    "print('t statistic : %.3f \\np-value : %.3f' % (result))"
   ]
  },
  {
   "cell_type": "code",
   "execution_count": null,
   "metadata": {},
   "outputs": [],
   "source": [
    "#correlation analysis in transfer zone\n",
    "total_transfer.corr()"
   ]
  },
  {
   "cell_type": "code",
   "execution_count": null,
   "metadata": {},
   "outputs": [],
   "source": [
    "import seaborn as sns\n",
    "plt.figure(figsize=(10,10))\n",
    "sns.heatmap(data = total_transfer.corr(), annot=True, fmt = '.2f', linewidths=.5, cmap='Blues')"
   ]
  },
  {
   "cell_type": "code",
   "execution_count": null,
   "metadata": {},
   "outputs": [],
   "source": [
    "not_transfer.corr()"
   ]
  },
  {
   "cell_type": "code",
   "execution_count": null,
   "metadata": {},
   "outputs": [],
   "source": [
    "#scatter plots\n",
    "total_transfer.plot(x='age',y='rev_total',kind='scatter',figsize=(15,10))\n",
    "total_transfer.plot(x='age',y='distance',kind='scatter',figsize=(15,10))\n",
    "total_transfer.plot(x='age',y='utime',kind='scatter',figsize=(15,10))"
   ]
  },
  {
   "cell_type": "markdown",
   "metadata": {},
   "source": [
    "# car model anaysis in transfer zone"
   ]
  },
  {
   "cell_type": "code",
   "execution_count": null,
   "metadata": {},
   "outputs": [],
   "source": [
    "#proportion of car model in transfer zone\n",
    "transfer_g=total_transfer.groupby(['zone_id','car_model','region1','region2','region3'])['distance','utime'].mean()\n",
    "transfer_g=transfer_g.reset_index()\n",
    "prop=pd.DataFrame(transfer_g.car_model.value_counts().sort_values(ascending=False))\n",
    "prop['prop']=transfer_g.car_model.value_counts()/len(transfer_g)\n",
    "print(prop)"
   ]
  },
  {
   "cell_type": "code",
   "execution_count": null,
   "metadata": {},
   "outputs": [],
   "source": [
    "#Chi-square test(independent test) whether they have any correalation between region & car model\n",
    "col=['zone_id','car_model','car_id']\n",
    "trans=transfer_g[col]\n",
    "trans.head()\n",
    "\n",
    "contingency_table=trans.pivot_table('car_id','zone_id','car_model',aggfunc='count',fill_value=0)\n",
    "Observed_Values = contingency_table.values  #Observed Values\n",
    "import scipy.stats\n",
    "b=scipy.stats.chi2_contingency(contingency_table)\n",
    "Expected_Values = b[3] #Expected Values\n",
    "\n",
    "#Degree of Freedom\n",
    "no_of_rows=len(contingency_table.iloc[0:2,0])\n",
    "no_of_columns=len(contingency_table.iloc[0,0:2])\n",
    "df=(no_of_rows-1)*(no_of_columns-1)\n",
    "print(\"Degree of Freedom:\",df)\n",
    "\n",
    "#chi-square statistic - χ2\n",
    "from scipy.stats import chi2\n",
    "chi_square=sum([(o-e)**2./e for o,e in zip(Observed_Values,Expected_Values)])\n",
    "chi_square_statistic=chi_square[0]+chi_square[1]\n",
    "print(\"chi-square statistic:-\",chi_square_statistic)\n",
    "\n",
    "#p-value\n",
    "p_value=1-chi2.cdf(x=chi_square_statistic,df=df)\n",
    "print('p-value:',p_value)"
   ]
  },
  {
   "cell_type": "code",
   "execution_count": null,
   "metadata": {},
   "outputs": [],
   "source": [
    "#utime, distance, rev_total  by region\n",
    "transfer_g2=total_transfer.groupby(['zone_id','region1','region2','region3'])['distance','utime','rev_total'].mean()\n",
    "plt.figure(figsize=(7,7))\n",
    "sns.heatmap(data = transfer_g2.corr(), annot=True, fmt = '.2f', linewidths=.5, cmap='Greens')"
   ]
  },
  {
   "cell_type": "code",
   "execution_count": null,
   "metadata": {},
   "outputs": [],
   "source": [
    "#Sorting by utime\n",
    "rank=transfer_g2.sort_values(by='utime',ascending=False)\n",
    "rank=rank.reset_index()\n",
    "rank2=rank.head(50)\n",
    "rank2.groupby(['region1','region2'])['zone_id'].count().sort_values(ascending=False).head(5)"
   ]
  },
  {
   "cell_type": "code",
   "execution_count": null,
   "metadata": {},
   "outputs": [],
   "source": []
  }
 ],
 "metadata": {
  "kernelspec": {
   "display_name": "Python 3",
   "language": "python",
   "name": "python3"
  },
  "language_info": {
   "codemirror_mode": {
    "name": "ipython",
    "version": 3
   },
   "file_extension": ".py",
   "mimetype": "text/x-python",
   "name": "python",
   "nbconvert_exporter": "python",
   "pygments_lexer": "ipython3",
   "version": "3.7.1"
  }
 },
 "nbformat": 4,
 "nbformat_minor": 2
}
